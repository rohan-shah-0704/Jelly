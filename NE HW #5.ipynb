{
 "cells": [
  {
   "cell_type": "code",
   "execution_count": 3,
   "metadata": {
    "collapsed": false
   },
   "outputs": [
    {
     "name": "stdout",
     "output_type": "stream",
     "text": [
      "\n",
      "It is estimated that when\n",
      " 10.0 percent\n",
      "of the land is used for sugar and\n",
      " 26.0 percent of 70000000 people\n",
      "LOVE pink, then there are\n",
      " 945945 \n",
      "Jelly Beans in the world.\n"
     ]
    }
   ],
   "source": [
    "import EstNumJellyBeans as jelly\n",
    "estimator = jelly.NumJellyEstimator()\n",
    "\n",
    "Percent_of_Worlds_Land = 'hi'\n",
    "#Percent_of_Worlds_Land = 0.18\n",
    "#Percent_of_Worlds_Land = 0.18\n",
    "\n",
    "World_Population = 70000000\n",
    "#World_Population = 'hi'\n",
    "#World_Population = 7000000\n",
    "\n",
    "Pinkophiles = 0.26\n",
    "#Pinkophiles = 0.26\n",
    "#Pinkophiles = 'hi'\n",
    "\n",
    "estimator.set_land_frac_for_sugar(Percent_of_Worlds_Land)\n",
    "estimator.set_world_pop(World_Population)\n",
    "estimator.set_frac_ppl_loving_pink(Pinkophiles)\n",
    "estimates = estimator.compute_Njelly_est()\n",
    "\n",
    "print(\"\\nIt is estimated that when\\n\", Percent_of_Worlds_Land*100, \"percent\\nof the land is\"+\\\n",
    "      \" used for sugar and\\n\", Pinkophiles*100, \"percent of\", World_Population, \\\n",
    "      \"people\\nLOVE pink, then there are\\n\", estimates, \"\\nJelly Beans in the world.\")"
   ]
  }
 ],
 "metadata": {
  "anaconda-cloud": {},
  "kernelspec": {
   "display_name": "Python [conda root]",
   "language": "python",
   "name": "conda-root-py"
  },
  "language_info": {
   "codemirror_mode": {
    "name": "ipython",
    "version": 3
   },
   "file_extension": ".py",
   "mimetype": "text/x-python",
   "name": "python",
   "nbconvert_exporter": "python",
   "pygments_lexer": "ipython3",
   "version": "3.5.2"
  }
 },
 "nbformat": 4,
 "nbformat_minor": 1
}
